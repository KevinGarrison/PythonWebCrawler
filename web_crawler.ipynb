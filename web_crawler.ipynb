{
 "cells": [
  {
   "cell_type": "code",
   "execution_count": 1,
   "outputs": [],
   "source": [
    "from crwlr import crawler"
   ],
   "metadata": {
    "collapsed": false,
    "ExecuteTime": {
     "end_time": "2024-02-18T14:49:13.044894900Z",
     "start_time": "2024-02-18T14:49:12.891230700Z"
    }
   },
   "id": "71dde5a40b6b049"
  },
  {
   "cell_type": "code",
   "execution_count": 2,
   "outputs": [],
   "source": [
    "main_url = 'https://www.bikesandmoreshop.de'\n",
    "\n",
    "sub_urls = ['E-Lastenräder.html', 'Elektrofahrräder/E-City.html', 'Elektrofahrräder/E-Cruiser.html', 'Elektrofahrräder/E-MTB-Fully.html', 'Elektrofahrräder/E-MTB-Hardtail.html', 'Elektrofahrräder/E-Road/E-Gravel.html', 'Elektrofahrräder/E-Trekking.html', 'Fahrräder/Gravelbikes.html', 'kategorie.php?kat_id=own5874f7b546ecf', 'kategorie.php?kat_id=own5874f7f0eca39', 'kategorie.php?kat_id=own5874f7f8ab5ff', 'kategorie.php?kat_id=own5874f820cee97', 'kategorie.php?kat_id=own5874f8193c541', 'kategorie.php?kat_id=own5874f8193c541&seiten_id=2', 'kategorie.php?kat_id=own5874f8193c541&seiten_id=3', 'kategorie.php?kat_id=own5874f82eb3354', 'kategorie.php?kat_id=own5874f8723c3ff']\n",
    "\n",
    "element = 'span'\n",
    "\n",
    "attr_name = ['name', 'description']"
   ],
   "metadata": {
    "collapsed": false,
    "ExecuteTime": {
     "end_time": "2024-02-18T14:49:13.137371300Z",
     "start_time": "2024-02-18T14:49:13.131169300Z"
    }
   },
   "id": "25c724b6f0e8a724"
  },
  {
   "cell_type": "code",
   "execution_count": 3,
   "outputs": [
    {
     "name": "stdout",
     "output_type": "stream",
     "text": [
      "Request 1 successful\n",
      "<span itemprop=\"name\">Cargoline HT 800</span>\n",
      "Request 2 successful\n",
      "<span itemprop=\"name\">2022 - ADVANCED URBAN Pro Mixed 50 / 400 Wh / Cream Weiss</span>\n",
      "Request 3 successful\n",
      "<span itemprop=\"name\">E-Coffee Cruiser +</span>\n",
      "Request 4 successful\n",
      "<span itemprop=\"name\">2022 - ADVANCED OFFROAD Pro MTB FS 39 / 750 Wh / Oliv Matt</span>\n",
      "Request 5 successful\n",
      "<span itemprop=\"name\">2022 - ADVANCED OFFROAD Pro Gent 45 / 625 Wh / Graphit - Schwarz</span>\n",
      "Request 6 successful\n",
      "<span itemprop=\"name\">Fuji E-JARI </span>\n",
      "Request 7 successful\n",
      "<span itemprop=\"name\">2022 - ADVANCED Trekking Pro Mixed 50 Graphit Matt</span>\n",
      "Request 8 successful\n",
      "<span itemprop=\"name\">BREEZER - RADAR X PRO 54 / Lila/Schwarz</span>\n",
      "Request 9 successful\n",
      "<span itemprop=\"name\">CORRATEC - C29er Elite 54 / Chrom, Rot</span>\n",
      "Request 10 successful\n",
      "<span itemprop=\"name\">Orbea OIZ H20 XL Black (Matt-Gloss) - Ice Green (Gloss)</span>\n",
      "Request 11 successful\n",
      "<span itemprop=\"name\">Orbea URRUN 10 L Leo Orange (Gloss) - Black (Matt)</span>\n",
      "Request 12 successful\n",
      "<span itemprop=\"name\">Zündapp Z101 37</span>\n",
      "Request 13 successful\n",
      "<span itemprop=\"name\">CORRATEC Bow 16'' / Türkis</span>\n",
      "Request 14 successful\n",
      "<span itemprop=\"name\">KUbikes 20 S / Rot</span>\n",
      "Request 15 successful\n",
      "<span itemprop=\"name\">KUbikes 27,5 L / Disc Orange</span>\n",
      "Request 16 successful\n",
      "<span itemprop=\"name\">CORRATEC Revo BOW 49 / Dunkelblau</span>\n",
      "Request 17 successful\n",
      "<span itemprop=\"name\">CORRATEC CCT Evo Race 51 / Blau</span>\n"
     ]
    }
   ],
   "source": [
    "content = crawler.web_crawler(main_url=main_url, sub_urls=sub_urls, element='span', attr_name=attr_name)"
   ],
   "metadata": {
    "collapsed": false,
    "ExecuteTime": {
     "end_time": "2024-02-18T14:49:24.364781Z",
     "start_time": "2024-02-18T14:49:13.928209100Z"
    }
   },
   "id": "6e6fdb0a32a34d09"
  },
  {
   "cell_type": "code",
   "execution_count": null,
   "outputs": [],
   "source": [
    "len(content)"
   ],
   "metadata": {
    "collapsed": false
   },
   "id": "36952c2e063c2876"
  },
  {
   "cell_type": "code",
   "execution_count": null,
   "outputs": [],
   "source": [
    "content"
   ],
   "metadata": {
    "collapsed": false
   },
   "id": "3b2eccbcca882e0f"
  },
  {
   "cell_type": "code",
   "execution_count": null,
   "outputs": [],
   "source": [],
   "metadata": {
    "collapsed": false
   },
   "id": "38c259b0acd8f5fa"
  }
 ],
 "metadata": {
  "kernelspec": {
   "display_name": "Python 3",
   "language": "python",
   "name": "python3"
  },
  "language_info": {
   "codemirror_mode": {
    "name": "ipython",
    "version": 2
   },
   "file_extension": ".py",
   "mimetype": "text/x-python",
   "name": "python",
   "nbconvert_exporter": "python",
   "pygments_lexer": "ipython2",
   "version": "2.7.6"
  }
 },
 "nbformat": 4,
 "nbformat_minor": 5
}
